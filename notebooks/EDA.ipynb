{
 "cells": [
  {
   "cell_type": "code",
   "execution_count": null,
   "metadata": {},
   "outputs": [],
   "source": [
    "import streamlit as st\n",
    "import pandas as pd\n",
    "import plotly_express as px\n",
    "\n",
    "df= pd.read_csv('vehicles_us.csv')\n",
    "df['manufacturer'] = df['model'].apply(lambda x:x.split()[0])\n",
    "\n",
    "#creating a plotly histogram figure\n",
    "fig_1 = px.histogram(df, x='manufacturer', color='type')\n",
    "\n",
    "#relationship between condition vs. model_year\n",
    "fig_2 = px.histogram(df, x='model_year', color='condition')\n",
    "\n",
    "#price distribution for model manufacture year \n",
    "fig_3 = px.scatter(df, x='model year', y='price')\n",
    "\n",
    "#price distribution vs days listed\n",
    "fig_4 = px.scatter(df, x='days_listed', y='price')"
   ]
  }
 ],
 "metadata": {
  "language_info": {
   "name": "python"
  },
  "orig_nbformat": 4
 },
 "nbformat": 4,
 "nbformat_minor": 2
}
